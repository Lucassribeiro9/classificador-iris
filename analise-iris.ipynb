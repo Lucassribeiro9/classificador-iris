{
 "cells": [
  {
   "cell_type": "markdown",
   "id": "e51674f9",
   "metadata": {},
   "source": [
    "# Análise de dados do Iris\n",
    "\n",
    "## Introdução\n",
    "\n",
    "Neste notebook, vamos explorar os dados do Iris, um conjunto de dados clássico que é frequentemente usado para ilustrar técnicas de aprendizado de máquina.\n"
   ]
  },
  {
   "cell_type": "code",
   "execution_count": 1,
   "id": "cace32dd",
   "metadata": {
    "vscode": {
     "languageId": "plaintext"
    }
   },
   "outputs": [
    {
     "name": "stdout",
     "output_type": "stream",
     "text": [
      "Bibliotecas importadas com sucesso!\n"
     ]
    }
   ],
   "source": [
    "# Imports\n",
    "import pandas as pd\n",
    "import matplotlib.pyplot as plt\n",
    "import seaborn as sns\n",
    "from sklearn.datasets import load_iris\n",
    "from sklearn.model_selection import train_test_split\n",
    "from sklearn.neighbors import KNeighborsClassifier\n",
    "from sklearn.metrics import accuracy_score\n",
    "\n",
    "print(\"Bibliotecas importadas com sucesso!\")"
   ]
  },
  {
   "cell_type": "markdown",
   "id": "ffc65f43",
   "metadata": {},
   "source": [
    "## Carregando o dataset do scikit-learn e mostrando as chaves"
   ]
  },
  {
   "cell_type": "code",
   "execution_count": 2,
   "id": "14853077-fcab-4ded-b391-a1686dda58ac",
   "metadata": {},
   "outputs": [
    {
     "name": "stdout",
     "output_type": "stream",
     "text": [
      "dict_keys(['data', 'target', 'frame', 'target_names', 'DESCR', 'feature_names', 'filename', 'data_module'])\n"
     ]
    }
   ],
   "source": [
    "dataset_iris = load_iris()\n",
    "print(dataset_iris.keys())\n"
   ]
  }
 ],
 "metadata": {
  "kernelspec": {
   "display_name": "Python 3 (ipykernel)",
   "language": "python",
   "name": "python3"
  },
  "language_info": {
   "codemirror_mode": {
    "name": "ipython",
    "version": 3
   },
   "file_extension": ".py",
   "mimetype": "text/x-python",
   "name": "python",
   "nbconvert_exporter": "python",
   "pygments_lexer": "ipython3",
   "version": "3.12.3"
  }
 },
 "nbformat": 4,
 "nbformat_minor": 5
}
